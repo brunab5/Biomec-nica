{
  "nbformat": 4,
  "nbformat_minor": 0,
  "metadata": {
    "colab": {
      "provenance": [],
      "authorship_tag": "ABX9TyNOMr64GbP+bC2kzlk9ETtj",
      "include_colab_link": true
    },
    "kernelspec": {
      "name": "python3",
      "display_name": "Python 3"
    },
    "language_info": {
      "name": "python"
    }
  },
  "cells": [
    {
      "cell_type": "markdown",
      "metadata": {
        "id": "view-in-github",
        "colab_type": "text"
      },
      "source": [
        "<a href=\"https://colab.research.google.com/github/brunab5/Biomec-nica/blob/main/cruzreta.ipynb\" target=\"_parent\"><img src=\"https://colab.research.google.com/assets/colab-badge.svg\" alt=\"Open In Colab\"/></a>"
      ]
    },
    {
      "cell_type": "code",
      "execution_count": null,
      "metadata": {
        "id": "1nWjJloP9k5p"
      },
      "outputs": [],
      "source": [
        "import matplotlib.pyplot as plt\n",
        "import numpy as np\n",
        "\n",
        "#Camera 1\n",
        "print(\"]Digite os Dados da Camera 1\")\n",
        "xc1 = float(input(\"Por favor, digite a coordenada x da camera 1: \"))\n",
        "yc1 = float(input(\"Por favor, digite a coordenada y da camera 1: \"))\n",
        "\n",
        "#Projeção 1\n",
        "print(\"Digite os Dados da Projeção da Camera 1\")\n",
        "xp1 = float(input(\"Por favor, digite a coordenada x da projeção da camera 1: \"))\n",
        "yp1 = float(input(\"Por favor, digite a coordenada y da projeção da camera 1: \"))\n",
        "\n",
        "#Camera 2\n",
        "print(\"Digite os Dados da Camera 2\")\n",
        "xc2 = float(input(\"Por favor, digite a coordenada x da camera 2: \"))\n",
        "yc2 = float(input(\"Por favor, digite a coordenada y da camera 2: \"))\n",
        "\n",
        "#Projeção 2\n",
        "print(\"Digite os Dados da Projeção da Camera 2\")\n",
        "xp2 = float(input(\"Por favor, digite a coordenada x da projeção da camera 2: \"))\n",
        "yp2 = float(input(\"Por favor, digite a coordenada y da projeção da camera 2: \"))\n",
        "\n",
        "mr1 = (yp1 - yc1) / (xp1 - xc1)\n",
        "mr2 = (yp2 - yc2) / (xp2 - xc2)\n",
        "\n",
        "br1 = -1 * (mr1 * xc1 - yc1) # coeficiente linear de r1\n",
        "br2 = -1 * (mr2 * xc2 - yc2) # coeficiente linear de r2\n",
        "\n",
        "#ponto do cruzamento\n",
        "xi = (-(mr2*xc2) + yc2 + (mr1*xc1) - yc1) / (mr1 - mr2) #x do cruzamento\n",
        "\n",
        "yi = (mr1*xi)  - (mr1*xc1) + yc1 #y do cruzamento\n",
        "\n",
        "#Posição do objeto reconstruído\n",
        "print(\"xi =\", xi)\n",
        "print(\"yi =\", yi)\n",
        "\n",
        "#Grafico\n",
        "x1 = np.linspace(0,3,100)\n",
        "y1 = mr1*x1 +br1\n",
        "\n",
        "x2 = np.linspace(0,3,100)\n",
        "y2 = mr2*x2 +br2\n",
        "\n",
        "plt.plot(x1,y1)\n",
        "plt.plot(x2,y2)\n",
        "plt.scatter(xi,yi, color = 'yellow') #Posição do objeto no plano xy - representada pelo ponto amarelo\n",
        "plt.scatter(xc1,yc1, color = 'red') #Posição da câmera 1 no plano xy - representada pelo ponto vermelho\n",
        "plt.scatter(xc2,yc2, color = 'blue') #Posição da câmera 2 no plano xy - representada pelo ponto azul\n",
        "\n",
        "plt.xlabel('x - axis')\n",
        "plt.ylabel('y - axis')\n",
        "plt.title(\"Cruzamento de retas\")\n",
        "plt.show()"
      ]
    }
  ]
}